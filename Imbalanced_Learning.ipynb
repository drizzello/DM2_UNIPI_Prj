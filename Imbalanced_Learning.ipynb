{
 "cells": [
  {
   "attachments": {},
   "cell_type": "markdown",
   "metadata": {},
   "source": [
    "# Imbalanced Learning\n",
    "- Define one simple unbalanced classification tasks and solve it with Decision Tree or KNN.\n",
    "- If the dataset is already unbalanced leave it as it is, otherwise turns the dataset into an imbalanced version (e.g., 96% - 4%, for binary classification).\n",
    "- Then solve the classification task using the Decision Tree or KNN by adopting at least 2 techniques of imbalanced learning (Undersampling, Oversampling).\n",
    "\n",
    "STEPS: \n",
    "- quindi sbilancio + classifico con dt e knn\n",
    "- applico under e over + class\n",
    "- e poi in caso applico dim red + under e over + class (tra quelle viste in cap prima)\n",
    "\n",
    "\n",
    "TIPI DI BILANCIAMENTO:\n",
    "- undersampling: Cluster Centroids - Edited Nearest Neighbors - Tomek Links - CondensedNearestNeighbour - RandomUnderSampler\n",
    "- oversampling: RandomOverSampler - ADASYN - SMOTE\n",
    "- balancing at the algo level: adjust the class weight- e meta cost sensitive classifier (NO)\n",
    "\n"
   ]
  },
  {
   "attachments": {},
   "cell_type": "markdown",
   "metadata": {},
   "source": [
    "# Import Libraries"
   ]
  },
  {
   "cell_type": "code",
   "execution_count": 2,
   "metadata": {},
   "outputs": [],
   "source": [
    "import numpy as np \n",
    "import pandas as pd\n",
    "\n",
    "import matplotlib.pyplot as plt\n",
    "import seaborn as sns\n",
    "\n",
    "from sklearn.preprocessing import OneHotEncoder, LabelEncoder\n",
    "from category_encoders.count import CountEncoder\n",
    "from sklearn.tree import DecisionTreeClassifier\n",
    "from sklearn.neighbors import KNeighborsClassifier\n",
    "from sklearn.model_selection import GridSearchCV, RandomizedSearchCV\n",
    "\n",
    "from sklearn.model_selection import train_test_split, cross_val_score \n",
    "from sklearn.metrics import accuracy_score, f1_score, classification_report\n",
    "from sklearn.metrics import roc_curve, auc, roc_auc_score\n",
    "#from scikitplot.metrics import plot_roc\n",
    "\n",
    "from imblearn.under_sampling import RandomUnderSampler\n",
    "from imblearn.under_sampling import CondensedNearestNeighbour\n",
    "from imblearn.under_sampling import TomekLinks\n",
    "from imblearn.under_sampling import EditedNearestNeighbours\n",
    "\n",
    "from scipy.stats import randint as sp_randint\n",
    "\n",
    "from imblearn.over_sampling import RandomOverSampler\n",
    "from imblearn.over_sampling import SMOTE\n",
    "from imblearn.over_sampling import ADASYN"
   ]
  },
  {
   "attachments": {},
   "cell_type": "markdown",
   "metadata": {},
   "source": [
    "# Load & Prep DF"
   ]
  },
  {
   "cell_type": "code",
   "execution_count": 3,
   "metadata": {},
   "outputs": [],
   "source": [
    "df = pd.read_csv('Data/Processed/df_wout_outliers.csv')"
   ]
  },
  {
   "cell_type": "code",
   "execution_count": 4,
   "metadata": {},
   "outputs": [
    {
     "data": {
      "text/plain": [
       "(88484, 24)"
      ]
     },
     "execution_count": 4,
     "metadata": {},
     "output_type": "execute_result"
    }
   ],
   "source": [
    "df.shape"
   ]
  },
  {
   "cell_type": "code",
   "execution_count": 5,
   "metadata": {},
   "outputs": [],
   "source": [
    "df = df.drop(columns=['energy', 'valence', 'Unnamed: 0']) #correlated with mood"
   ]
  },
  {
   "cell_type": "code",
   "execution_count": 6,
   "metadata": {},
   "outputs": [],
   "source": [
    "pd.set_option('display.max_columns', None)\n"
   ]
  },
  {
   "cell_type": "code",
   "execution_count": 7,
   "metadata": {},
   "outputs": [
    {
     "data": {
      "text/html": [
       "<div>\n",
       "<style scoped>\n",
       "    .dataframe tbody tr th:only-of-type {\n",
       "        vertical-align: middle;\n",
       "    }\n",
       "\n",
       "    .dataframe tbody tr th {\n",
       "        vertical-align: top;\n",
       "    }\n",
       "\n",
       "    .dataframe thead th {\n",
       "        text-align: right;\n",
       "    }\n",
       "</style>\n",
       "<table border=\"1\" class=\"dataframe\">\n",
       "  <thead>\n",
       "    <tr style=\"text-align: right;\">\n",
       "      <th></th>\n",
       "      <th>duration_ms</th>\n",
       "      <th>popularity</th>\n",
       "      <th>danceability</th>\n",
       "      <th>loudness</th>\n",
       "      <th>speechiness</th>\n",
       "      <th>acousticness</th>\n",
       "      <th>instrumentalness</th>\n",
       "      <th>liveness</th>\n",
       "      <th>tempo</th>\n",
       "      <th>tempo_confidence</th>\n",
       "      <th>time_signature_confidence</th>\n",
       "      <th>key_confidence</th>\n",
       "      <th>mode_confidence</th>\n",
       "      <th>popularity_artist</th>\n",
       "      <th>followers_artist</th>\n",
       "      <th>explicit</th>\n",
       "      <th>key</th>\n",
       "      <th>mode</th>\n",
       "      <th>time_signature</th>\n",
       "      <th>genre</th>\n",
       "      <th>mood</th>\n",
       "    </tr>\n",
       "  </thead>\n",
       "  <tbody>\n",
       "    <tr>\n",
       "      <th>0</th>\n",
       "      <td>-0.680781</td>\n",
       "      <td>0.162759</td>\n",
       "      <td>1.978201</td>\n",
       "      <td>-0.275068</td>\n",
       "      <td>0.999975</td>\n",
       "      <td>-0.740877</td>\n",
       "      <td>-0.522897</td>\n",
       "      <td>-0.321113</td>\n",
       "      <td>-0.618882</td>\n",
       "      <td>0.433548</td>\n",
       "      <td>0.564559</td>\n",
       "      <td>0.786251</td>\n",
       "      <td>0.398323</td>\n",
       "      <td>-0.188934</td>\n",
       "      <td>-0.304401</td>\n",
       "      <td>1</td>\n",
       "      <td>8</td>\n",
       "      <td>0</td>\n",
       "      <td>4</td>\n",
       "      <td>german</td>\n",
       "      <td>Sad</td>\n",
       "    </tr>\n",
       "    <tr>\n",
       "      <th>1</th>\n",
       "      <td>0.940114</td>\n",
       "      <td>0.812539</td>\n",
       "      <td>-1.691805</td>\n",
       "      <td>0.208828</td>\n",
       "      <td>-0.452776</td>\n",
       "      <td>0.240034</td>\n",
       "      <td>-0.532243</td>\n",
       "      <td>-0.511836</td>\n",
       "      <td>1.878636</td>\n",
       "      <td>-1.384628</td>\n",
       "      <td>-1.058807</td>\n",
       "      <td>0.895193</td>\n",
       "      <td>1.134200</td>\n",
       "      <td>1.049266</td>\n",
       "      <td>-0.103532</td>\n",
       "      <td>0</td>\n",
       "      <td>0</td>\n",
       "      <td>1</td>\n",
       "      <td>4</td>\n",
       "      <td>club</td>\n",
       "      <td>Angry</td>\n",
       "    </tr>\n",
       "    <tr>\n",
       "      <th>2</th>\n",
       "      <td>2.862979</td>\n",
       "      <td>-1.461689</td>\n",
       "      <td>0.695703</td>\n",
       "      <td>-0.941570</td>\n",
       "      <td>-0.366899</td>\n",
       "      <td>-0.962302</td>\n",
       "      <td>0.029763</td>\n",
       "      <td>-0.542764</td>\n",
       "      <td>-0.081356</td>\n",
       "      <td>1.276279</td>\n",
       "      <td>0.545517</td>\n",
       "      <td>-1.767842</td>\n",
       "      <td>-1.034990</td>\n",
       "      <td>0.092476</td>\n",
       "      <td>-0.222466</td>\n",
       "      <td>0</td>\n",
       "      <td>5</td>\n",
       "      <td>0</td>\n",
       "      <td>4</td>\n",
       "      <td>minimal-techno</td>\n",
       "      <td>Angry</td>\n",
       "    </tr>\n",
       "    <tr>\n",
       "      <th>3</th>\n",
       "      <td>-0.386216</td>\n",
       "      <td>1.415905</td>\n",
       "      <td>0.655625</td>\n",
       "      <td>0.954063</td>\n",
       "      <td>0.919465</td>\n",
       "      <td>-0.792551</td>\n",
       "      <td>-0.532243</td>\n",
       "      <td>-0.689672</td>\n",
       "      <td>1.324332</td>\n",
       "      <td>-1.142426</td>\n",
       "      <td>0.564559</td>\n",
       "      <td>-0.609825</td>\n",
       "      <td>-0.205755</td>\n",
       "      <td>0.458307</td>\n",
       "      <td>-0.119712</td>\n",
       "      <td>0</td>\n",
       "      <td>0</td>\n",
       "      <td>1</td>\n",
       "      <td>4</td>\n",
       "      <td>hip-hop</td>\n",
       "      <td>Happy</td>\n",
       "    </tr>\n",
       "    <tr>\n",
       "      <th>4</th>\n",
       "      <td>1.023124</td>\n",
       "      <td>-0.533433</td>\n",
       "      <td>-0.260445</td>\n",
       "      <td>-1.008220</td>\n",
       "      <td>-0.519867</td>\n",
       "      <td>-0.962825</td>\n",
       "      <td>1.703361</td>\n",
       "      <td>-0.642765</td>\n",
       "      <td>0.254670</td>\n",
       "      <td>0.579533</td>\n",
       "      <td>0.564559</td>\n",
       "      <td>-1.933273</td>\n",
       "      <td>-1.924633</td>\n",
       "      <td>0.767857</td>\n",
       "      <td>-0.149780</td>\n",
       "      <td>0</td>\n",
       "      <td>6</td>\n",
       "      <td>0</td>\n",
       "      <td>4</td>\n",
       "      <td>minimal-techno</td>\n",
       "      <td>Sad</td>\n",
       "    </tr>\n",
       "  </tbody>\n",
       "</table>\n",
       "</div>"
      ],
      "text/plain": [
       "   duration_ms  popularity  danceability  loudness  speechiness  acousticness  \\\n",
       "0    -0.680781    0.162759      1.978201 -0.275068     0.999975     -0.740877   \n",
       "1     0.940114    0.812539     -1.691805  0.208828    -0.452776      0.240034   \n",
       "2     2.862979   -1.461689      0.695703 -0.941570    -0.366899     -0.962302   \n",
       "3    -0.386216    1.415905      0.655625  0.954063     0.919465     -0.792551   \n",
       "4     1.023124   -0.533433     -0.260445 -1.008220    -0.519867     -0.962825   \n",
       "\n",
       "   instrumentalness  liveness     tempo  tempo_confidence  \\\n",
       "0         -0.522897 -0.321113 -0.618882          0.433548   \n",
       "1         -0.532243 -0.511836  1.878636         -1.384628   \n",
       "2          0.029763 -0.542764 -0.081356          1.276279   \n",
       "3         -0.532243 -0.689672  1.324332         -1.142426   \n",
       "4          1.703361 -0.642765  0.254670          0.579533   \n",
       "\n",
       "   time_signature_confidence  key_confidence  mode_confidence  \\\n",
       "0                   0.564559        0.786251         0.398323   \n",
       "1                  -1.058807        0.895193         1.134200   \n",
       "2                   0.545517       -1.767842        -1.034990   \n",
       "3                   0.564559       -0.609825        -0.205755   \n",
       "4                   0.564559       -1.933273        -1.924633   \n",
       "\n",
       "   popularity_artist  followers_artist  explicit  key  mode  time_signature  \\\n",
       "0          -0.188934         -0.304401         1    8     0               4   \n",
       "1           1.049266         -0.103532         0    0     1               4   \n",
       "2           0.092476         -0.222466         0    5     0               4   \n",
       "3           0.458307         -0.119712         0    0     1               4   \n",
       "4           0.767857         -0.149780         0    6     0               4   \n",
       "\n",
       "            genre   mood  \n",
       "0          german    Sad  \n",
       "1            club  Angry  \n",
       "2  minimal-techno  Angry  \n",
       "3         hip-hop  Happy  \n",
       "4  minimal-techno    Sad  "
      ]
     },
     "execution_count": 7,
     "metadata": {},
     "output_type": "execute_result"
    }
   ],
   "source": [
    "df.head()"
   ]
  },
  {
   "cell_type": "code",
   "execution_count": 8,
   "metadata": {},
   "outputs": [
    {
     "data": {
      "text/plain": [
       "time_signature\n",
       "4    79329\n",
       "3     7579\n",
       "5     1576\n",
       "Name: count, dtype: int64"
      ]
     },
     "execution_count": 8,
     "metadata": {},
     "output_type": "execute_result"
    }
   ],
   "source": [
    "df['time_signature'].value_counts()"
   ]
  },
  {
   "cell_type": "code",
   "execution_count": 9,
   "metadata": {},
   "outputs": [],
   "source": [
    "df_class = df.copy()"
   ]
  },
  {
   "cell_type": "code",
   "execution_count": 10,
   "metadata": {},
   "outputs": [
    {
     "name": "stderr",
     "output_type": "stream",
     "text": [
      "/Users/daviderizzello/Documents/UNIPI/Data_Mining/Progetto_DM2/DM2_UNIPI_Prj/env/lib/python3.11/site-packages/sklearn/base.py:411: FutureWarning: The `_get_tags` method is deprecated in 1.6 and will be removed in 1.7. Please implement the `__sklearn_tags__` method.\n",
      "  warnings.warn(\n"
     ]
    }
   ],
   "source": [
    "label_encoder = LabelEncoder()\n",
    "\n",
    "enc = CountEncoder(cols=['genre'], normalize=True).fit(df_class, df_class['mood'])\n",
    "df_class = enc.transform(df_class)"
   ]
  },
  {
   "cell_type": "code",
   "execution_count": 11,
   "metadata": {},
   "outputs": [],
   "source": [
    "df_class = df_class.drop(columns=['mood'])"
   ]
  },
  {
   "cell_type": "code",
   "execution_count": 12,
   "metadata": {},
   "outputs": [
    {
     "data": {
      "text/plain": [
       "Index(['duration_ms', 'popularity', 'danceability', 'loudness', 'speechiness',\n",
       "       'acousticness', 'instrumentalness', 'liveness', 'tempo',\n",
       "       'tempo_confidence', 'time_signature_confidence', 'key_confidence',\n",
       "       'mode_confidence', 'popularity_artist', 'followers_artist', 'explicit',\n",
       "       'key', 'mode', 'time_signature', 'genre'],\n",
       "      dtype='object')"
      ]
     },
     "execution_count": 12,
     "metadata": {},
     "output_type": "execute_result"
    }
   ],
   "source": [
    "df_class.columns"
   ]
  },
  {
   "cell_type": "code",
   "execution_count": 13,
   "metadata": {},
   "outputs": [
    {
     "data": {
      "text/plain": [
       "explicit\n",
       "0    80786\n",
       "1     7698\n",
       "Name: count, dtype: int64"
      ]
     },
     "execution_count": 13,
     "metadata": {},
     "output_type": "execute_result"
    }
   ],
   "source": [
    "df_class['explicit'].value_counts()"
   ]
  },
  {
   "attachments": {},
   "cell_type": "markdown",
   "metadata": {},
   "source": [
    "# Classification"
   ]
  },
  {
   "cell_type": "code",
   "execution_count": 18,
   "metadata": {},
   "outputs": [
    {
     "data": {
      "text/plain": [
       "((88484, 19), (88484,))"
      ]
     },
     "execution_count": 18,
     "metadata": {},
     "output_type": "execute_result"
    }
   ],
   "source": [
    "target = 'explicit'\n",
    "\n",
    "attributes = [col for col in df_class.columns if col != target]\n",
    "\n",
    "X = df_class[attributes].values\n",
    "y = np.array(df_class[target])  # oppure y = df['emotion].values\n",
    "\n",
    "X.shape, y.shape"
   ]
  },
  {
   "cell_type": "code",
   "execution_count": 19,
   "metadata": {},
   "outputs": [
    {
     "data": {
      "text/plain": [
       "((61938, 19), (26546, 19), (61938,), (26546,))"
      ]
     },
     "execution_count": 19,
     "metadata": {},
     "output_type": "execute_result"
    }
   ],
   "source": [
    "X_train, X_test, y_train, y_test = train_test_split(X, y, test_size=0.3, random_state=42, stratify=y)\n",
    "# Usando l'opzione stratify=y, garantisci che la suddivisione mantenga la stessa proporzione di classi tra set di addestramento e di test, utile quando hai un set di dati sbilanciato\n",
    "\n",
    "X_train.shape, X_test.shape, y_train.shape, y_test.shape"
   ]
  },
  {
   "cell_type": "code",
   "execution_count": 20,
   "metadata": {},
   "outputs": [
    {
     "name": "stdout",
     "output_type": "stream",
     "text": [
      "Migliori parametri trovati: {'min_samples_split': 30, 'min_samples_leaf': 40, 'max_depth': 30, 'criterion': 'entropy'}\n",
      "              precision    recall  f1-score   support\n",
      "\n",
      "           0       0.93      0.98      0.96     24237\n",
      "           1       0.55      0.27      0.36      2309\n",
      "\n",
      "    accuracy                           0.92     26546\n",
      "   macro avg       0.74      0.62      0.66     26546\n",
      "weighted avg       0.90      0.92      0.90     26546\n",
      "\n"
     ]
    }
   ],
   "source": [
    "# DT con grid\n",
    "\n",
    "dtree = DecisionTreeClassifier(random_state=42)\n",
    "\n",
    "# Definizione dei parametri da ottimizzare\n",
    "param_grid = {\n",
    "    'criterion': ['gini', 'entropy'],\n",
    "    'max_depth': [None, 10, 20, 30, 40, 50],\n",
    "    'min_samples_split': [2, 10, 20, 30, 40, 50],\n",
    "    'min_samples_leaf': [1, 5, 10, 20, 30, 40]\n",
    "}\n",
    "\n",
    "# Configurazione della Grid Search\n",
    "grid_search = RandomizedSearchCV(estimator=dtree, param_distributions=param_grid, n_iter=10,  cv=5, n_jobs=-1)\n",
    "\n",
    "# Addestramento del modello\n",
    "grid_search.fit(X_train, y_train)\n",
    "\n",
    "# Migliori parametri trovati\n",
    "print(f\"Migliori parametri trovati: {grid_search.best_params_}\")\n",
    "\n",
    "# Predizioni sul set di test\n",
    "y_pred = grid_search.predict(X_test)\n",
    "\n",
    "# Report di classificazione\n",
    "print(classification_report(y_test, y_pred))\n"
   ]
  },
  {
   "cell_type": "code",
   "execution_count": 23,
   "metadata": {},
   "outputs": [
    {
     "name": "stdout",
     "output_type": "stream",
     "text": [
      "Migliori parametri trovati: {'n_neighbors': 11, 'p': 1, 'weights': 'distance'}\n",
      "              precision    recall  f1-score   support\n",
      "\n",
      "           0       0.93      0.99      0.96     24237\n",
      "           1       0.70      0.21      0.32      2309\n",
      "\n",
      "    accuracy                           0.92     26546\n",
      "   macro avg       0.82      0.60      0.64     26546\n",
      "weighted avg       0.91      0.92      0.90     26546\n",
      "\n"
     ]
    }
   ],
   "source": [
    "\n",
    "knn = KNeighborsClassifier()\n",
    "\n",
    "# Definizione dei parametri da ottimizzare\n",
    "param_dist = {\n",
    "    'n_neighbors': sp_randint(1, 31),\n",
    "    'weights': ['uniform', 'distance'],\n",
    "    'p': [1, 2]\n",
    "}\n",
    "\n",
    "# Configurazione della Random Search\n",
    "random_search = RandomizedSearchCV(estimator=knn, param_distributions=param_dist, n_iter=10, cv=5, n_jobs=-1, random_state=42)\n",
    "\n",
    "# Addestramento del modello\n",
    "random_search.fit(X_train, y_train) \n",
    "\n",
    "# Migliori parametri trovati\n",
    "print(f\"Migliori parametri trovati: {random_search.best_params_}\")\n",
    "\n",
    "# Predizioni sul set di test\n",
    "y_pred = random_search.predict(X_test)\n",
    "\n",
    "# Report di classificazione\n",
    "print(classification_report(y_test, y_pred))"
   ]
  },
  {
   "attachments": {},
   "cell_type": "markdown",
   "metadata": {},
   "source": [
    "## Undersampling"
   ]
  },
  {
   "attachments": {},
   "cell_type": "markdown",
   "metadata": {},
   "source": [
    "### Random"
   ]
  },
  {
   "cell_type": "code",
   "execution_count": 24,
   "metadata": {},
   "outputs": [
    {
     "name": "stdout",
     "output_type": "stream",
     "text": [
      "Resampled dataset shape Counter({np.int64(0): 5389, np.int64(1): 5389})\n"
     ]
    }
   ],
   "source": [
    "from collections import Counter\n",
    "\n",
    "\n",
    "rus = RandomUnderSampler(random_state=42)\n",
    "X_res, y_res = rus.fit_resample(X_train, y_train)\n",
    "print('Resampled dataset shape %s' % Counter(y_res))"
   ]
  },
  {
   "cell_type": "code",
   "execution_count": 25,
   "metadata": {},
   "outputs": [
    {
     "name": "stdout",
     "output_type": "stream",
     "text": [
      "Migliori parametri trovati: {'min_samples_split': 30, 'min_samples_leaf': 40, 'max_depth': 10, 'criterion': 'entropy'}\n",
      "              precision    recall  f1-score   support\n",
      "\n",
      "           0       0.97      0.74      0.84     24237\n",
      "           1       0.21      0.72      0.33      2309\n",
      "\n",
      "    accuracy                           0.74     26546\n",
      "   macro avg       0.59      0.73      0.58     26546\n",
      "weighted avg       0.90      0.74      0.79     26546\n",
      "\n"
     ]
    }
   ],
   "source": [
    "# DT con grid\n",
    "\n",
    "dtree = DecisionTreeClassifier(random_state=42)\n",
    "\n",
    "# Definizione dei parametri da ottimizzare\n",
    "param_grid = {\n",
    "    'criterion': ['gini', 'entropy'],\n",
    "    'max_depth': [None, 10, 20, 30, 40, 50],\n",
    "    'min_samples_split': [2, 10, 20, 30, 40, 50],\n",
    "    'min_samples_leaf': [1, 5, 10, 20, 30, 40]\n",
    "}\n",
    "\n",
    "# Configurazione della Grid Search\n",
    "grid_search = RandomizedSearchCV(estimator=dtree, param_distributions=param_grid, n_iter=10,  cv=5, n_jobs=-1)\n",
    "\n",
    "# Addestramento del modello\n",
    "grid_search.fit(X_res, y_res)\n",
    "\n",
    "# Migliori parametri trovati\n",
    "print(f\"Migliori parametri trovati: {grid_search.best_params_}\")\n",
    "\n",
    "# Predizioni sul set di test\n",
    "y_pred = grid_search.predict(X_test)\n",
    "\n",
    "# Report di classificazione\n",
    "print(classification_report(y_test, y_pred))\n",
    "\n",
    "dt_randomunder = grid_search"
   ]
  },
  {
   "cell_type": "code",
   "execution_count": 26,
   "metadata": {},
   "outputs": [
    {
     "name": "stdout",
     "output_type": "stream",
     "text": [
      "Migliori parametri trovati: {'n_neighbors': 24, 'p': 1, 'weights': 'distance'}\n",
      "              precision    recall  f1-score   support\n",
      "\n",
      "           0       0.97      0.73      0.84     24237\n",
      "           1       0.22      0.76      0.34      2309\n",
      "\n",
      "    accuracy                           0.74     26546\n",
      "   macro avg       0.59      0.75      0.59     26546\n",
      "weighted avg       0.90      0.74      0.79     26546\n",
      "\n"
     ]
    }
   ],
   "source": [
    "\n",
    "\n",
    "knn = KNeighborsClassifier()\n",
    "\n",
    "# Definizione dei parametri da ottimizzare\n",
    "param_dist = {\n",
    "    'n_neighbors': sp_randint(1, 31),\n",
    "    'weights': ['uniform', 'distance'],\n",
    "    'p': [1, 2]\n",
    "}\n",
    "\n",
    "# Configurazione della Random Search\n",
    "random_search = RandomizedSearchCV(estimator=knn, param_distributions=param_dist, n_iter=10, cv=5, n_jobs=-1, random_state=42)\n",
    "\n",
    "# Addestramento del modello\n",
    "random_search.fit(X_res, y_res)\n",
    "\n",
    "# Migliori parametri trovati\n",
    "print(f\"Migliori parametri trovati: {random_search.best_params_}\")\n",
    "\n",
    "# Predizioni sul set di test\n",
    "y_pred = random_search.predict(X_test)\n",
    "\n",
    "# Report di classificazione\n",
    "print(classification_report(y_test, y_pred))\n",
    "\n",
    "knn_randomunder = random_search"
   ]
  },
  {
   "attachments": {},
   "cell_type": "markdown",
   "metadata": {},
   "source": [
    "### Tomek"
   ]
  },
  {
   "cell_type": "code",
   "execution_count": 27,
   "metadata": {},
   "outputs": [
    {
     "name": "stdout",
     "output_type": "stream",
     "text": [
      "Resampled dataset shape Counter({np.int64(0): 55335, np.int64(1): 5389})\n"
     ]
    }
   ],
   "source": [
    "from collections import Counter\n",
    "\n",
    "\n",
    "tl = TomekLinks(sampling_strategy= 'majority')\n",
    "X_res, y_res = tl.fit_resample(X_train, y_train)\n",
    "print('Resampled dataset shape %s' % Counter(y_res))"
   ]
  },
  {
   "cell_type": "code",
   "execution_count": 32,
   "metadata": {},
   "outputs": [
    {
     "data": {
      "text/plain": [
       "(60724, 19)"
      ]
     },
     "execution_count": 32,
     "metadata": {},
     "output_type": "execute_result"
    }
   ],
   "source": [
    "X_res.shape"
   ]
  },
  {
   "cell_type": "code",
   "execution_count": 28,
   "metadata": {},
   "outputs": [
    {
     "name": "stdout",
     "output_type": "stream",
     "text": [
      "Migliori parametri trovati: {'min_samples_split': 2, 'min_samples_leaf': 30, 'max_depth': None, 'criterion': 'entropy'}\n",
      "              precision    recall  f1-score   support\n",
      "\n",
      "           0       0.93      0.97      0.95     24237\n",
      "           1       0.50      0.29      0.37      2309\n",
      "\n",
      "    accuracy                           0.91     26546\n",
      "   macro avg       0.72      0.63      0.66     26546\n",
      "weighted avg       0.90      0.91      0.90     26546\n",
      "\n"
     ]
    }
   ],
   "source": [
    "# DT con grid\n",
    "\n",
    "dtree = DecisionTreeClassifier(random_state=42)\n",
    "\n",
    "# Definizione dei parametri da ottimizzare\n",
    "param_grid = {\n",
    "    'criterion': ['gini', 'entropy'],\n",
    "    'max_depth': [None, 10, 20, 30, 40, 50],\n",
    "    'min_samples_split': [2, 10, 20, 30, 40, 50],\n",
    "    'min_samples_leaf': [1, 5, 10, 20, 30, 40]\n",
    "}\n",
    "\n",
    "# Configurazione della Grid Search\n",
    "grid_search = RandomizedSearchCV(estimator=dtree, param_distributions=param_grid, n_iter=10,  cv=5, n_jobs=-1)\n",
    "\n",
    "# Addestramento del modello\n",
    "grid_search.fit(X_res, y_res)\n",
    "\n",
    "# Migliori parametri trovati\n",
    "print(f\"Migliori parametri trovati: {grid_search.best_params_}\")\n",
    "\n",
    "# Predizioni sul set di test\n",
    "y_pred = grid_search.predict(X_test)\n",
    "\n",
    "# Report di classificazione\n",
    "print(classification_report(y_test, y_pred))\n",
    "\n",
    "dt_tomek = grid_search"
   ]
  },
  {
   "cell_type": "code",
   "execution_count": 33,
   "metadata": {},
   "outputs": [
    {
     "name": "stdout",
     "output_type": "stream",
     "text": [
      "Migliori parametri trovati: {'n_neighbors': 15, 'p': 1, 'weights': 'distance'}\n",
      "              precision    recall  f1-score   support\n",
      "\n",
      "           0       0.93      0.99      0.96     24237\n",
      "           1       0.71      0.22      0.33      2309\n",
      "\n",
      "    accuracy                           0.92     26546\n",
      "   macro avg       0.82      0.60      0.65     26546\n",
      "weighted avg       0.91      0.92      0.91     26546\n",
      "\n"
     ]
    }
   ],
   "source": [
    "knn = KNeighborsClassifier()\n",
    "\n",
    "# Definizione dei parametri da ottimizzare\n",
    "param_dist = {\n",
    "    'n_neighbors': sp_randint(1, 31),\n",
    "    'weights': ['uniform', 'distance'],\n",
    "    'p': [1, 2]\n",
    "}\n",
    "\n",
    "# Configurazione della Random Search\n",
    "random_search = RandomizedSearchCV(estimator=knn, param_distributions=param_dist, n_iter=10, cv=5, n_jobs=-1, random_state=42)\n",
    "\n",
    "# Addestramento del modello\n",
    "random_search.fit(X_res, y_res)\n",
    "\n",
    "# Migliori parametri trovati\n",
    "print(f\"Migliori parametri trovati: {random_search.best_params_}\")\n",
    "\n",
    "# Predizioni sul set di test\n",
    "y_pred = random_search.predict(X_test)\n",
    "\n",
    "# Report di classificazione\n",
    "print(classification_report(y_test, y_pred))\n",
    "\n",
    "knn_tomek = random_search"
   ]
  },
  {
   "cell_type": "code",
   "execution_count": null,
   "metadata": {},
   "outputs": [],
   "source": []
  },
  {
   "attachments": {},
   "cell_type": "markdown",
   "metadata": {},
   "source": [
    "### Edited Nearest Neighbors"
   ]
  },
  {
   "cell_type": "code",
   "execution_count": 34,
   "metadata": {},
   "outputs": [
    {
     "name": "stdout",
     "output_type": "stream",
     "text": [
      "Resampled dataset shape Counter({np.int64(0): 47790, np.int64(1): 5389})\n"
     ]
    }
   ],
   "source": [
    "enn = EditedNearestNeighbours()\n",
    "X_res, y_res = enn.fit_resample(X_train, y_train)\n",
    "print('Resampled dataset shape %s' % Counter(y_res))"
   ]
  },
  {
   "cell_type": "code",
   "execution_count": 35,
   "metadata": {},
   "outputs": [
    {
     "name": "stdout",
     "output_type": "stream",
     "text": [
      "Migliori parametri trovati: {'min_samples_split': 2, 'min_samples_leaf': 10, 'max_depth': 10, 'criterion': 'entropy'}\n",
      "              precision    recall  f1-score   support\n",
      "\n",
      "           0       0.94      0.95      0.95     24237\n",
      "           1       0.42      0.34      0.38      2309\n",
      "\n",
      "    accuracy                           0.90     26546\n",
      "   macro avg       0.68      0.65      0.66     26546\n",
      "weighted avg       0.89      0.90      0.90     26546\n",
      "\n"
     ]
    }
   ],
   "source": [
    "# DT con grid\n",
    "\n",
    "dtree = DecisionTreeClassifier(random_state=42)\n",
    "\n",
    "# Definizione dei parametri da ottimizzare\n",
    "param_grid = {\n",
    "    'criterion': ['gini', 'entropy'],\n",
    "    'max_depth': [None, 10, 20, 30, 40, 50],\n",
    "    'min_samples_split': [2, 10, 20, 30, 40, 50],\n",
    "    'min_samples_leaf': [1, 5, 10, 20, 30, 40]\n",
    "}\n",
    "\n",
    "# Configurazione della Grid Search\n",
    "grid_search = RandomizedSearchCV(estimator=dtree, param_distributions=param_grid, n_iter=10,  cv=5, n_jobs=-1)\n",
    "\n",
    "# Addestramento del modello\n",
    "grid_search.fit(X_res, y_res)\n",
    "\n",
    "# Migliori parametri trovati\n",
    "print(f\"Migliori parametri trovati: {grid_search.best_params_}\")\n",
    "\n",
    "# Predizioni sul set di test\n",
    "y_pred = grid_search.predict(X_test)\n",
    "\n",
    "# Report di classificazione\n",
    "print(classification_report(y_test, y_pred))\n",
    "\n",
    "dt_enn = grid_search"
   ]
  },
  {
   "cell_type": "code",
   "execution_count": 36,
   "metadata": {},
   "outputs": [
    {
     "name": "stdout",
     "output_type": "stream",
     "text": [
      "Migliori parametri trovati: {'n_neighbors': 2, 'p': 2, 'weights': 'distance'}\n",
      "              precision    recall  f1-score   support\n",
      "\n",
      "           0       0.94      0.90      0.92     24237\n",
      "           1       0.30      0.44      0.35      2309\n",
      "\n",
      "    accuracy                           0.86     26546\n",
      "   macro avg       0.62      0.67      0.64     26546\n",
      "weighted avg       0.89      0.86      0.87     26546\n",
      "\n"
     ]
    }
   ],
   "source": [
    "knn = KNeighborsClassifier()\n",
    "\n",
    "# Definizione dei parametri da ottimizzare\n",
    "param_dist = {\n",
    "    'n_neighbors': sp_randint(1, 31),\n",
    "    'weights': ['uniform', 'distance'],\n",
    "    'p': [1, 2]\n",
    "}\n",
    "\n",
    "# Configurazione della Random Search\n",
    "random_search = RandomizedSearchCV(estimator=knn, param_distributions=param_dist, n_iter=10, cv=5, n_jobs=-1, random_state=42)\n",
    "\n",
    "# Addestramento del modello\n",
    "random_search.fit(X_res, y_res)\n",
    "\n",
    "# Migliori parametri trovati\n",
    "print(f\"Migliori parametri trovati: {random_search.best_params_}\")\n",
    "\n",
    "# Predizioni sul set di test\n",
    "y_pred = random_search.predict(X_test)\n",
    "\n",
    "# Report di classificazione\n",
    "print(classification_report(y_test, y_pred))\n",
    "\n",
    "knn_enn = random_search"
   ]
  },
  {
   "attachments": {},
   "cell_type": "markdown",
   "metadata": {},
   "source": [
    "## Oversampling"
   ]
  },
  {
   "cell_type": "code",
   "execution_count": null,
   "metadata": {},
   "outputs": [],
   "source": []
  },
  {
   "attachments": {},
   "cell_type": "markdown",
   "metadata": {},
   "source": [
    "### Random "
   ]
  },
  {
   "cell_type": "code",
   "execution_count": 37,
   "metadata": {},
   "outputs": [
    {
     "name": "stdout",
     "output_type": "stream",
     "text": [
      "Resampled dataset shape Counter({np.int64(0): 56549, np.int64(1): 56549})\n"
     ]
    }
   ],
   "source": [
    "ros = RandomOverSampler(random_state=42)\n",
    "X_res, y_res = ros.fit_resample(X_train, y_train)\n",
    "print('Resampled dataset shape %s' % Counter(y_res))"
   ]
  },
  {
   "cell_type": "code",
   "execution_count": 38,
   "metadata": {},
   "outputs": [
    {
     "name": "stdout",
     "output_type": "stream",
     "text": [
      "Migliori parametri trovati: {'min_samples_split': 40, 'min_samples_leaf': 5, 'max_depth': None, 'criterion': 'entropy'}\n",
      "              precision    recall  f1-score   support\n",
      "\n",
      "           0       0.95      0.90      0.92     24237\n",
      "           1       0.32      0.51      0.39      2309\n",
      "\n",
      "    accuracy                           0.86     26546\n",
      "   macro avg       0.63      0.70      0.66     26546\n",
      "weighted avg       0.90      0.86      0.88     26546\n",
      "\n"
     ]
    }
   ],
   "source": [
    "# DT con grid\n",
    "\n",
    "dtree = DecisionTreeClassifier(random_state=42)\n",
    "\n",
    "# Definizione dei parametri da ottimizzare\n",
    "param_grid = {\n",
    "    'criterion': ['gini', 'entropy'],\n",
    "    'max_depth': [None, 10, 20, 30, 40, 50],\n",
    "    'min_samples_split': [2, 10, 20, 30, 40, 50],\n",
    "    'min_samples_leaf': [1, 5, 10, 20, 30, 40]\n",
    "}\n",
    "\n",
    "# Configurazione della Grid Search\n",
    "grid_search = RandomizedSearchCV(estimator=dtree, param_distributions=param_grid, n_iter=10,  cv=5, n_jobs=-1)\n",
    "\n",
    "# Addestramento del modello\n",
    "grid_search.fit(X_res, y_res)\n",
    "\n",
    "# Migliori parametri trovati\n",
    "print(f\"Migliori parametri trovati: {grid_search.best_params_}\")\n",
    "\n",
    "# Predizioni sul set di test\n",
    "y_pred = grid_search.predict(X_test)\n",
    "\n",
    "# Report di classificazione\n",
    "print(classification_report(y_test, y_pred))\n",
    "\n",
    "dt_over = grid_search"
   ]
  },
  {
   "cell_type": "code",
   "execution_count": 39,
   "metadata": {},
   "outputs": [
    {
     "name": "stdout",
     "output_type": "stream",
     "text": [
      "Migliori parametri trovati: {'n_neighbors': 2, 'p': 2, 'weights': 'distance'}\n",
      "              precision    recall  f1-score   support\n",
      "\n",
      "           0       0.94      0.94      0.94     24237\n",
      "           1       0.34      0.32      0.33      2309\n",
      "\n",
      "    accuracy                           0.89     26546\n",
      "   macro avg       0.64      0.63      0.63     26546\n",
      "weighted avg       0.88      0.89      0.89     26546\n",
      "\n"
     ]
    }
   ],
   "source": [
    "\n",
    "knn = KNeighborsClassifier()\n",
    "\n",
    "# Definizione dei parametri da ottimizzare\n",
    "param_dist = {\n",
    "    'n_neighbors': sp_randint(1, 31),\n",
    "    'weights': ['uniform', 'distance'],\n",
    "    'p': [1, 2]\n",
    "}\n",
    "\n",
    "# Configurazione della Random Search\n",
    "random_search = RandomizedSearchCV(estimator=knn, param_distributions=param_dist, n_iter=10, cv=5, n_jobs=-1, random_state=42)\n",
    "\n",
    "# Addestramento del modello\n",
    "random_search.fit(X_res, y_res)\n",
    "\n",
    "# Migliori parametri trovati\n",
    "print(f\"Migliori parametri trovati: {random_search.best_params_}\")\n",
    "\n",
    "# Predizioni sul set di test\n",
    "y_pred = random_search.predict(X_test)\n",
    "\n",
    "# Report di classificazione\n",
    "print(classification_report(y_test, y_pred))\n",
    "\n",
    "knn_over = random_search"
   ]
  },
  {
   "attachments": {},
   "cell_type": "markdown",
   "metadata": {},
   "source": [
    "### Smote"
   ]
  },
  {
   "cell_type": "code",
   "execution_count": 40,
   "metadata": {},
   "outputs": [
    {
     "name": "stdout",
     "output_type": "stream",
     "text": [
      "Resampled dataset shape Counter({np.int64(0): 56549, np.int64(1): 56549})\n"
     ]
    }
   ],
   "source": [
    "sm = SMOTE(random_state=42)\n",
    "X_res, y_res = sm.fit_resample(X_train, y_train)\n",
    "print('Resampled dataset shape %s' % Counter(y_res))"
   ]
  },
  {
   "cell_type": "code",
   "execution_count": 41,
   "metadata": {},
   "outputs": [
    {
     "name": "stdout",
     "output_type": "stream",
     "text": [
      "Migliori parametri trovati: {'min_samples_split': 10, 'min_samples_leaf': 1, 'max_depth': 30, 'criterion': 'gini'}\n",
      "              precision    recall  f1-score   support\n",
      "\n",
      "           0       0.95      0.86      0.90     24237\n",
      "           1       0.26      0.52      0.35      2309\n",
      "\n",
      "    accuracy                           0.83     26546\n",
      "   macro avg       0.61      0.69      0.63     26546\n",
      "weighted avg       0.89      0.83      0.85     26546\n",
      "\n"
     ]
    }
   ],
   "source": [
    "# DT con grid\n",
    "\n",
    "dtree = DecisionTreeClassifier(random_state=42)\n",
    "\n",
    "# Definizione dei parametri da ottimizzare\n",
    "param_grid = {\n",
    "    'criterion': ['gini', 'entropy'],\n",
    "    'max_depth': [None, 10, 20, 30, 40, 50],\n",
    "    'min_samples_split': [2, 10, 20, 30, 40, 50],\n",
    "    'min_samples_leaf': [1, 5, 10, 20, 30, 40]\n",
    "}\n",
    "\n",
    "# Configurazione della Grid Search\n",
    "grid_search = RandomizedSearchCV(estimator=dtree, param_distributions=param_grid, n_iter=10,  cv=5, n_jobs=-1)\n",
    "\n",
    "# Addestramento del modello\n",
    "grid_search.fit(X_res, y_res)\n",
    "\n",
    "# Migliori parametri trovati\n",
    "print(f\"Migliori parametri trovati: {grid_search.best_params_}\")\n",
    "\n",
    "# Predizioni sul set di test\n",
    "y_pred = grid_search.predict(X_test)\n",
    "\n",
    "# Report di classificazione\n",
    "print(classification_report(y_test, y_pred))\n",
    "\n",
    "dt_smote = grid_search"
   ]
  },
  {
   "cell_type": "code",
   "execution_count": 42,
   "metadata": {},
   "outputs": [
    {
     "name": "stdout",
     "output_type": "stream",
     "text": [
      "Migliori parametri trovati: {'n_neighbors': 2, 'p': 2, 'weights': 'distance'}\n",
      "              precision    recall  f1-score   support\n",
      "\n",
      "           0       0.95      0.87      0.91     24237\n",
      "           1       0.26      0.47      0.33      2309\n",
      "\n",
      "    accuracy                           0.84     26546\n",
      "   macro avg       0.60      0.67      0.62     26546\n",
      "weighted avg       0.89      0.84      0.86     26546\n",
      "\n"
     ]
    }
   ],
   "source": [
    "\n",
    "knn = KNeighborsClassifier()\n",
    "\n",
    "# Definizione dei parametri da ottimizzare\n",
    "param_dist = {\n",
    "    'n_neighbors': sp_randint(1, 31),\n",
    "    'weights': ['uniform', 'distance'],\n",
    "    'p': [1, 2]\n",
    "}\n",
    "\n",
    "# Configurazione della Random Search\n",
    "random_search = RandomizedSearchCV(estimator=knn, param_distributions=param_dist, n_iter=10, cv=5, n_jobs=-1, random_state=42)\n",
    "\n",
    "# Addestramento del modello\n",
    "random_search.fit(X_res, y_res)\n",
    "\n",
    "# Migliori parametri trovati\n",
    "print(f\"Migliori parametri trovati: {random_search.best_params_}\")\n",
    "\n",
    "# Predizioni sul set di test\n",
    "y_pred = random_search.predict(X_test)\n",
    "\n",
    "# Report di classificazione\n",
    "print(classification_report(y_test, y_pred))\n",
    "\n",
    "knn_smote = random_search"
   ]
  },
  {
   "attachments": {},
   "cell_type": "markdown",
   "metadata": {},
   "source": [
    "### Adasyn"
   ]
  },
  {
   "cell_type": "code",
   "execution_count": 43,
   "metadata": {},
   "outputs": [
    {
     "name": "stdout",
     "output_type": "stream",
     "text": [
      "Resampled dataset shape Counter({np.int64(1): 57036, np.int64(0): 56549})\n"
     ]
    }
   ],
   "source": [
    "ada = ADASYN(random_state=42)\n",
    "X_res, y_res = ada.fit_resample(X_train, y_train)\n",
    "print('Resampled dataset shape %s' % Counter(y_res))"
   ]
  },
  {
   "cell_type": "code",
   "execution_count": 44,
   "metadata": {},
   "outputs": [
    {
     "name": "stdout",
     "output_type": "stream",
     "text": [
      "Migliori parametri trovati: {'min_samples_split': 10, 'min_samples_leaf': 1, 'max_depth': 20, 'criterion': 'entropy'}\n",
      "              precision    recall  f1-score   support\n",
      "\n",
      "           0       0.95      0.83      0.89     24237\n",
      "           1       0.24      0.56      0.34      2309\n",
      "\n",
      "    accuracy                           0.81     26546\n",
      "   macro avg       0.60      0.70      0.61     26546\n",
      "weighted avg       0.89      0.81      0.84     26546\n",
      "\n"
     ]
    }
   ],
   "source": [
    "# DT con grid\n",
    "\n",
    "dtree = DecisionTreeClassifier(random_state=42)\n",
    "\n",
    "# Definizione dei parametri da ottimizzare\n",
    "param_grid = {\n",
    "    'criterion': ['gini', 'entropy'],\n",
    "    'max_depth': [None, 10, 20, 30, 40, 50],\n",
    "    'min_samples_split': [2, 10, 20, 30, 40, 50],\n",
    "    'min_samples_leaf': [1, 5, 10, 20, 30, 40]\n",
    "}\n",
    "\n",
    "# Configurazione della Grid Search\n",
    "grid_search = RandomizedSearchCV(estimator=dtree, param_distributions=param_grid, n_iter=10,  cv=5, n_jobs=-1)\n",
    "\n",
    "# Addestramento del modello\n",
    "grid_search.fit(X_res, y_res)\n",
    "\n",
    "# Migliori parametri trovati\n",
    "print(f\"Migliori parametri trovati: {grid_search.best_params_}\")\n",
    "\n",
    "# Predizioni sul set di test\n",
    "y_pred = grid_search.predict(X_test)\n",
    "\n",
    "# Report di classificazione\n",
    "print(classification_report(y_test, y_pred))\n",
    "\n",
    "dt_ada = grid_search"
   ]
  },
  {
   "cell_type": "code",
   "execution_count": 45,
   "metadata": {},
   "outputs": [
    {
     "name": "stdout",
     "output_type": "stream",
     "text": [
      "Migliori parametri trovati: {'n_neighbors': 2, 'p': 2, 'weights': 'distance'}\n",
      "              precision    recall  f1-score   support\n",
      "\n",
      "           0       0.95      0.87      0.90     24237\n",
      "           1       0.25      0.48      0.33      2309\n",
      "\n",
      "    accuracy                           0.83     26546\n",
      "   macro avg       0.60      0.67      0.62     26546\n",
      "weighted avg       0.89      0.83      0.85     26546\n",
      "\n"
     ]
    }
   ],
   "source": [
    "\n",
    "knn = KNeighborsClassifier()\n",
    "\n",
    "# Definizione dei parametri da ottimizzare\n",
    "param_dist = {\n",
    "    'n_neighbors': sp_randint(1, 31),\n",
    "    'weights': ['uniform', 'distance'],\n",
    "    'p': [1, 2]\n",
    "}\n",
    "\n",
    "# Configurazione della Random Search\n",
    "random_search = RandomizedSearchCV(estimator=knn, param_distributions=param_dist, n_iter=10, cv=5, n_jobs=-1, random_state=42)\n",
    "\n",
    "# Addestramento del modello\n",
    "random_search.fit(X_res, y_res)\n",
    "\n",
    "# Migliori parametri trovati\n",
    "print(f\"Migliori parametri trovati: {random_search.best_params_}\")\n",
    "\n",
    "# Predizioni sul set di test\n",
    "y_pred = random_search.predict(X_test)\n",
    "\n",
    "# Report di classificazione\n",
    "print(classification_report(y_test, y_pred))\n",
    "\n",
    "knn_ada = random_search"
   ]
  }
 ],
 "metadata": {
  "kernelspec": {
   "display_name": "base",
   "language": "python",
   "name": "python3"
  },
  "language_info": {
   "codemirror_mode": {
    "name": "ipython",
    "version": 3
   },
   "file_extension": ".py",
   "mimetype": "text/x-python",
   "name": "python",
   "nbconvert_exporter": "python",
   "pygments_lexer": "ipython3",
   "version": "3.11.4"
  },
  "orig_nbformat": 4
 },
 "nbformat": 4,
 "nbformat_minor": 2
}
